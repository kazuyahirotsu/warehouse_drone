{
 "cells": [
  {
   "cell_type": "code",
   "execution_count": 1,
   "metadata": {},
   "outputs": [
    {
     "name": "stdout",
     "output_type": "stream",
     "text": [
      "=> Info: Use inet client...\n"
     ]
    }
   ],
   "source": [
    "from unrealcv import client\n",
    "import os, sys, time"
   ]
  },
  {
   "cell_type": "code",
   "execution_count": 2,
   "metadata": {},
   "outputs": [
    {
     "name": "stderr",
     "output_type": "stream",
     "text": [
      "INFO:__init__:234:Got connection confirm: b'connected to warehouse_simple'\n"
     ]
    },
    {
     "name": "stdout",
     "output_type": "stream",
     "text": [
      "=>Info: using ip-port socket\n"
     ]
    }
   ],
   "source": [
    "# connect to ue\n",
    "client.connect()\n",
    "if not client.isconnected():\n",
    "    print('UnrealCV server is not running.')"
   ]
  },
  {
   "cell_type": "code",
   "execution_count": 3,
   "metadata": {},
   "outputs": [
    {
     "name": "stdout",
     "output_type": "stream",
     "text": [
      "Is Listening\n",
      "Client Connected\n",
      "9000\n",
      "Configuration\n",
      "Config file: C:/Program Files/Epic Games/UE_4.27/Engine/Binaries/Win64/unrealcv.ini\n",
      "Port: 9000\n",
      "Width: 640\n",
      "Height: 480\n",
      "FOV: 90.000000\n",
      "EnableInput: true\n",
      "EnableRightEye: false\n",
      "\n"
     ]
    }
   ],
   "source": [
    "\n",
    "# check config\n",
    "res = client.request('vget /unrealcv/status')\n",
    "# The image resolution and port is configured in the config file.\n",
    "print(res)"
   ]
  },
  {
   "cell_type": "code",
   "execution_count": 4,
   "metadata": {},
   "outputs": [],
   "source": [
    "# import stuff\n",
    "import numpy as np\n",
    "from matplotlib import pyplot as plt"
   ]
  },
  {
   "cell_type": "markdown",
   "metadata": {},
   "source": []
  },
  {
   "cell_type": "code",
   "execution_count": 5,
   "metadata": {},
   "outputs": [
    {
     "data": {
      "text/plain": [
       "'c:\\\\Users\\\\kazuya\\\\warehouse_drone\\\\simulation\\\\ue4_dataset_generation'"
      ]
     },
     "execution_count": 5,
     "metadata": {},
     "output_type": "execute_result"
    }
   ],
   "source": [
    "pwd"
   ]
  },
  {
   "cell_type": "code",
   "execution_count": 25,
   "metadata": {},
   "outputs": [
    {
     "data": {
      "image/png": "[encoded data removed]",
      "text/plain": [
       "<Figure size 432x288 with 1 Axes>"
      ]
     },
     "metadata": {
      "needs_background": "light"
     },
     "output_type": "display_data"
    },
    {
     "data": {
      "image/png": "[encoded data removed]",
      "text/plain": [
       "<Figure size 432x288 with 1 Axes>"
      ]
     },
     "metadata": {
      "needs_background": "light"
     },
     "output_type": "display_data"
    },
    {
     "data": {
      "image/png": "[encoded data removed]",
      "text/plain": [
       "<Figure size 432x288 with 1 Axes>"
      ]
     },
     "metadata": {
      "needs_background": "light"
     },
     "output_type": "display_data"
    }
   ],
   "source": [
    "# get depth image\n",
    "res = client.request(f'vset /camera/1/location -30 235 70')\n",
    "res = client.request(f'vset /camera/1/rotation 0 -180 0')\n",
    "res = client.request('vget /camera/1/depth c:\\\\Users\\\\kazuya\\\\warehouse_drone\\\\simulation\\\\ue4_dataset_generation\\\\depth_front.npy')\n",
    "img_array = np.load('depth_front.npy')\n",
    "plt.imshow(img_array)\n",
    "plt.show()\n",
    "res = client.request(f'vset /camera/1/location -30 185 70')\n",
    "res = client.request(f'vset /camera/1/rotation 0 -190 0')\n",
    "res = client.request('vget /camera/1/depth c:\\\\Users\\\\kazuya\\\\warehouse_drone\\\\simulation\\\\ue4_dataset_generation\\\\depth_right.npy')\n",
    "img_array = np.load('depth_right.npy')\n",
    "plt.imshow(img_array)\n",
    "plt.show()\n",
    "res = client.request(f'vset /camera/1/location -30 285 70')\n",
    "res = client.request(f'vset /camera/1/rotation 0 -170 0')\n",
    "res = client.request('vget /camera/1/depth c:\\\\Users\\\\kazuya\\\\warehouse_drone\\\\simulation\\\\ue4_dataset_generation\\\\depth_left.npy')\n",
    "img_array = np.load('depth_left.npy')\n",
    "plt.imshow(img_array)\n",
    "plt.show()"
   ]
  },
  {
   "cell_type": "code",
   "execution_count": 12,
   "metadata": {},
   "outputs": [
    {
     "name": "stdout",
     "output_type": "stream",
     "text": [
      "100.000 40.000 130.000\n",
      "0.000 -180.000 0.000\n"
     ]
    }
   ],
   "source": [
    "# get camera location\n",
    "res = client.request(f'vget /camera/1/location')\n",
    "print(res)\n",
    "res = client.request(f'vget /camera/1/rotation')\n",
    "print(res)"
   ]
  },
  {
   "cell_type": "code",
   "execution_count": null,
   "metadata": {},
   "outputs": [],
   "source": []
  }
 ],
 "metadata": {
  "kernelspec": {
   "display_name": "Python 3",
   "language": "python",
   "name": "python3"
  },
  "language_info": {
   "codemirror_mode": {
    "name": "ipython",
    "version": 3
   },
   "file_extension": ".py",
   "mimetype": "text/x-python",
   "name": "python",
   "nbconvert_exporter": "python",
   "pygments_lexer": "ipython3",
   "version": "3.10.11"
  },
  "orig_nbformat": 4,
  "vscode": {
   "interpreter": {
    "hash": "173697347e5f141a9cf2ff4d8b6444dba0aa36c31837a83795a3e4196cbbd73a"
   }
  }
 },
 "nbformat": 4,
 "nbformat_minor": 2
}
