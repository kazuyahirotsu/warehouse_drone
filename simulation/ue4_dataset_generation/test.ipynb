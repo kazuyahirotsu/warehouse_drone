{
 "cells": [
  {
   "cell_type": "code",
   "execution_count": 1,
   "metadata": {},
   "outputs": [
    {
     "name": "stdout",
     "output_type": "stream",
     "text": [
      "The last update of this file: 2023-12-12 03:28:34\n"
     ]
    }
   ],
   "source": [
    "import time; print(time.strftime(\"The last update of this file: %Y-%m-%d %H:%M:%S\", time.gmtime()))"
   ]
  },
  {
   "cell_type": "code",
   "execution_count": 2,
   "metadata": {},
   "outputs": [],
   "source": [
    "from __future__ import division, absolute_import, print_function\n",
    "import os, sys, time, re, json\n",
    "import numpy as np\n",
    "import matplotlib.pyplot as plt\n",
    "\n",
    "imread = plt.imread\n",
    "def imread8(im_file):\n",
    "    ''' Read image as a 8-bit numpy array '''\n",
    "    im = np.asarray(Image.open(im_file))\n",
    "    return im\n",
    "\n",
    "def read_png(res):\n",
    "    import StringIO, PIL.Image\n",
    "    img = PIL.Image.open(StringIO.StringIO(res))\n",
    "    return np.asarray(img)\n",
    "\n",
    "def read_npy(res):\n",
    "    import StringIO\n",
    "    return np.load(StringIO.StringIO(res))"
   ]
  },
  {
   "cell_type": "code",
   "execution_count": 12,
   "metadata": {},
   "outputs": [
    {
     "name": "stdout",
     "output_type": "stream",
     "text": [
      "=>Info: using ip-port socket\n"
     ]
    },
    {
     "name": "stderr",
     "output_type": "stream",
     "text": [
      "ERROR:__init__:256:Can not connect to ('localhost', 9000)\n",
      "ERROR:__init__:257:Error [Errno 60] Operation timed out\n"
     ]
    },
    {
     "name": "stdout",
     "output_type": "stream",
     "text": [
      "UnrealCV server is not running. Run the game downloaded from http://unrealcv.github.io first.\n"
     ]
    },
    {
     "ename": "SystemExit",
     "evalue": "-1",
     "output_type": "error",
     "traceback": [
      "An exception has occurred, use %tb to see the full traceback.\n",
      "\u001b[0;31mSystemExit\u001b[0m\u001b[0;31m:\u001b[0m -1\n"
     ]
    }
   ],
   "source": [
    "from unrealcv import client\n",
    "client.connect()\n",
    "if not client.isconnected():\n",
    "    print('UnrealCV server is not running. Run the game downloaded from http://unrealcv.github.io first.')\n",
    "    sys.exit(-1)"
   ]
  },
  {
   "cell_type": "code",
   "execution_count": 9,
   "metadata": {},
   "outputs": [
    {
     "ename": "KeyboardInterrupt",
     "evalue": "",
     "output_type": "error",
     "traceback": [
      "\u001b[0;31m---------------------------------------------------------------------------\u001b[0m",
      "\u001b[0;31mKeyboardInterrupt\u001b[0m                         Traceback (most recent call last)",
      "\u001b[1;32m/Users/hiro/warehouse_sim/test.ipynb Cell 4\u001b[0m line \u001b[0;36m1\n\u001b[0;32m----> <a href='vscode-notebook-cell:/Users/hiro/warehouse_sim/test.ipynb#W3sZmlsZQ%3D%3D?line=0'>1</a>\u001b[0m res \u001b[39m=\u001b[39m client\u001b[39m.\u001b[39;49mrequest(\u001b[39m'\u001b[39;49m\u001b[39mvget /unrealcv/status\u001b[39;49m\u001b[39m'\u001b[39;49m)\n\u001b[1;32m      <a href='vscode-notebook-cell:/Users/hiro/warehouse_sim/test.ipynb#W3sZmlsZQ%3D%3D?line=1'>2</a>\u001b[0m \u001b[39m# The image resolution and port is configured in the config file.\u001b[39;00m\n\u001b[1;32m      <a href='vscode-notebook-cell:/Users/hiro/warehouse_sim/test.ipynb#W3sZmlsZQ%3D%3D?line=2'>3</a>\u001b[0m \u001b[39mprint\u001b[39m(res)\n",
      "File \u001b[0;32m~/.pyenv/versions/3.11.3/lib/python3.11/site-packages/unrealcv/__init__.py:445\u001b[0m, in \u001b[0;36mClient.request\u001b[0;34m(self, message, timeout)\u001b[0m\n\u001b[1;32m    442\u001b[0m \u001b[39mself\u001b[39m\u001b[39m.\u001b[39msend_message_id \u001b[39m+\u001b[39m\u001b[39m=\u001b[39m \u001b[39m1\u001b[39m\n\u001b[1;32m    444\u001b[0m \u001b[39mself\u001b[39m\u001b[39m.\u001b[39mrecv_num_q\u001b[39m.\u001b[39mput(\u001b[39m-\u001b[39m\u001b[39m1\u001b[39m)  \u001b[39m# negative number indicates need results\u001b[39;00m\n\u001b[0;32m--> 445\u001b[0m message \u001b[39m=\u001b[39m \u001b[39mself\u001b[39;49m\u001b[39m.\u001b[39;49mrecv_data_q\u001b[39m.\u001b[39;49mget()\n\u001b[1;32m    447\u001b[0m \u001b[39mreturn\u001b[39;00m message\n",
      "\u001b[0;31mKeyboardInterrupt\u001b[0m: "
     ]
    }
   ],
   "source": [
    "res = client.request('vget /unrealcv/status')\n",
    "# The image resolution and port is configured in the config file.\n",
    "print(res)"
   ]
  },
  {
   "cell_type": "code",
   "execution_count": 10,
   "metadata": {},
   "outputs": [],
   "source": [
    "client.disconnect()"
   ]
  },
  {
   "cell_type": "code",
   "execution_count": null,
   "metadata": {},
   "outputs": [],
   "source": []
  }
 ],
 "metadata": {
  "kernelspec": {
   "display_name": "Python 3",
   "language": "python",
   "name": "python3"
  },
  "language_info": {
   "codemirror_mode": {
    "name": "ipython",
    "version": 3
   },
   "file_extension": ".py",
   "mimetype": "text/x-python",
   "name": "python",
   "nbconvert_exporter": "python",
   "pygments_lexer": "ipython3",
   "version": "3.11.3"
  }
 },
 "nbformat": 4,
 "nbformat_minor": 2
}
