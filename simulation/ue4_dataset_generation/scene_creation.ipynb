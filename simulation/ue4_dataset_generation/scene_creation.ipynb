{
 "cells": [
  {
   "cell_type": "code",
   "execution_count": 3,
   "metadata": {},
   "outputs": [
    {
     "name": "stdout",
     "output_type": "stream",
     "text": [
      "Point cloud saved to 'box_pointcloud.ply'\n"
     ]
    }
   ],
   "source": [
    "import trimesh\n",
    "import numpy as np\n",
    "import open3d as o3d\n",
    "\n",
    "# Load the OBJ file using trimesh\n",
    "mesh = trimesh.load('dataset/assets/SM_DmS_Pallet02.obj')\n",
    "# mesh = trimesh.load('dataset/assets/SM_DmS_30X40X20_Box.obj')\n",
    "# Sample points from the mesh surface\n",
    "num_points = 100000  # Adjust the number of points as needed\n",
    "points, _ = trimesh.sample.sample_surface(mesh, num_points)\n",
    "\n",
    "# Convert the points to an Open3D point cloud\n",
    "point_cloud = o3d.geometry.PointCloud()\n",
    "point_cloud.points = o3d.utility.Vector3dVector(points)\n",
    "\n",
    "# Save the point cloud to a PLY file\n",
    "o3d.io.write_point_cloud('dataset/assets/SM_DmS_Pallet02.ply', point_cloud)\n",
    "\n",
    "print(\"Point cloud saved to 'box_pointcloud.ply'\")\n"
   ]
  },
  {
   "cell_type": "code",
   "execution_count": 1,
   "metadata": {},
   "outputs": [
    {
     "ename": "ImportError",
     "evalue": "cannot import name 'JVisualizer' from 'open3d' (/Users/hiro/.pyenv/versions/3.11.3/lib/python3.11/site-packages/open3d/__init__.py)",
     "output_type": "error",
     "traceback": [
      "\u001b[0;31m---------------------------------------------------------------------------\u001b[0m",
      "\u001b[0;31mImportError\u001b[0m                               Traceback (most recent call last)",
      "Cell \u001b[0;32mIn[1], line 2\u001b[0m\n\u001b[1;32m      1\u001b[0m \u001b[38;5;28;01mimport\u001b[39;00m \u001b[38;5;21;01mopen3d\u001b[39;00m \u001b[38;5;28;01mas\u001b[39;00m \u001b[38;5;21;01mo3d\u001b[39;00m\n\u001b[0;32m----> 2\u001b[0m \u001b[38;5;28;01mfrom\u001b[39;00m \u001b[38;5;21;01mopen3d\u001b[39;00m \u001b[38;5;28;01mimport\u001b[39;00m JVisualizer\n\u001b[1;32m      5\u001b[0m \u001b[38;5;66;03m# Load the box and pallet point clouds\u001b[39;00m\n\u001b[1;32m      6\u001b[0m box \u001b[38;5;241m=\u001b[39m o3d\u001b[38;5;241m.\u001b[39mio\u001b[38;5;241m.\u001b[39mread_point_cloud(\u001b[38;5;124m'\u001b[39m\u001b[38;5;124mbox_pointcloud.ply\u001b[39m\u001b[38;5;124m'\u001b[39m)\n",
      "\u001b[0;31mImportError\u001b[0m: cannot import name 'JVisualizer' from 'open3d' (/Users/hiro/.pyenv/versions/3.11.3/lib/python3.11/site-packages/open3d/__init__.py)"
     ]
    }
   ],
   "source": [
    "import open3d as o3d\n",
    "\n",
    "# Load the box and pallet point clouds\n",
    "box = o3d.io.read_point_cloud('box_pointcloud.ply')\n",
    "pallet = o3d.io.read_point_cloud('pallet_pointcloud.ply')\n",
    "\n",
    "# color the box and pallet point clouds\n",
    "box.paint_uniform_color([1, 0, 0])\n",
    "pallet.paint_uniform_color([0, 0, 1])\n",
    "\n",
    "# place the box on the pallet\n",
    "box.translate([1, 0, 0.1])\n",
    "\n",
    "# visualize the box and pallet point clouds in 2d plane\n",
    "o3d.visualization.draw_geometries([box, pallet])\n",
    "\n"
   ]
  },
  {
   "cell_type": "code",
   "execution_count": null,
   "metadata": {},
   "outputs": [],
   "source": []
  },
  {
   "cell_type": "code",
   "execution_count": null,
   "metadata": {},
   "outputs": [],
   "source": []
  }
 ],
 "metadata": {
  "kernelspec": {
   "display_name": "Python 3",
   "language": "python",
   "name": "python3"
  },
  "language_info": {
   "codemirror_mode": {
    "name": "ipython",
    "version": 3
   },
   "file_extension": ".py",
   "mimetype": "text/x-python",
   "name": "python",
   "nbconvert_exporter": "python",
   "pygments_lexer": "ipython3",
   "version": "3.11.3"
  }
 },
 "nbformat": 4,
 "nbformat_minor": 2
}
