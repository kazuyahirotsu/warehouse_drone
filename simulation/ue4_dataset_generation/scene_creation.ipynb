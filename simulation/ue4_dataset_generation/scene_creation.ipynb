{
 "cells": [
  {
   "cell_type": "code",
   "execution_count": 3,
   "metadata": {},
   "outputs": [
    {
     "name": "stdout",
     "output_type": "stream",
     "text": [
      "Point cloud saved to 'box_pointcloud.ply'\n"
     ]
    }
   ],
   "source": [
    "import trimesh\n",
    "import numpy as np\n",
    "import open3d as o3d\n",
    "\n",
    "# Load the OBJ file using trimesh\n",
    "mesh = trimesh.load('dataset/assets/SM_DmS_Pallet02.obj')\n",
    "# mesh = trimesh.load('dataset/assets/SM_DmS_30X40X20_Box.obj')\n",
    "# Sample points from the mesh surface\n",
    "num_points = 100000  # Adjust the number of points as needed\n",
    "points, _ = trimesh.sample.sample_surface(mesh, num_points)\n",
    "\n",
    "# Convert the points to an Open3D point cloud\n",
    "point_cloud = o3d.geometry.PointCloud()\n",
    "point_cloud.points = o3d.utility.Vector3dVector(points)\n",
    "\n",
    "# Save the point cloud to a PLY file\n",
    "o3d.io.write_point_cloud('dataset/assets/SM_DmS_Pallet02.ply', point_cloud)\n",
    "\n",
    "print(\"Point cloud saved to 'box_pointcloud.ply'\")\n"
   ]
  },
  {
   "cell_type": "code",
   "execution_count": 27,
   "metadata": {},
   "outputs": [
    {
     "data": {
      "text/plain": [
       "True"
      ]
     },
     "execution_count": 27,
     "metadata": {},
     "output_type": "execute_result"
    }
   ],
   "source": [
    "import open3d as o3d\n",
    "\n",
    "boxes = []\n",
    "# Load the box and pallet point clouds\n",
    "for i in range(12):\n",
    "    # make the box with the name box_i\n",
    "    box = o3d.io.read_point_cloud('dataset/assets/SM_DmS_30X40X20_Box.ply')\n",
    "    box.paint_uniform_color([1, 0, 0])\n",
    "    boxes.append(box)\n",
    "\n",
    "pallet = o3d.io.read_point_cloud('dataset/assets/SM_DmS_Pallet02.ply')\n",
    "pallet.paint_uniform_color([0, 0, 1])\n",
    "\n",
    "# copy the box point cloud\n",
    "\n",
    "\n",
    "# place the box on the pallet at [10,10,10]\n",
    "for i in range(12):\n",
    "\n",
    "        boxes[i].translate([30 + (i%2==1)*41, 12+(i//6==1)*21, -30-((i%6)//2)*31])\n",
    "\n",
    "# visualize the box and pallet point clouds in 2d plane\n",
    "o3d.visualization.draw_geometries([pallet]+boxes)\n",
    "\n",
    "# convert the box and pallet point clouds to a single point cloud\n",
    "point_cloud = pallet\n",
    "for box in boxes:\n",
    "    point_cloud += box\n",
    "# make it a ply file\n",
    "o3d.io.write_point_cloud('dataset/scene/pallet_and_12_boxes.ply', point_cloud)\n"
   ]
  },
  {
   "cell_type": "code",
   "execution_count": null,
   "metadata": {},
   "outputs": [],
   "source": []
  }
 ],
 "metadata": {
  "kernelspec": {
   "display_name": "Python 3",
   "language": "python",
   "name": "python3"
  },
  "language_info": {
   "codemirror_mode": {
    "name": "ipython",
    "version": 3
   },
   "file_extension": ".py",
   "mimetype": "text/x-python",
   "name": "python",
   "nbconvert_exporter": "python",
   "pygments_lexer": "ipython3",
   "version": "3.10.11"
  }
 },
 "nbformat": 4,
 "nbformat_minor": 2
}
