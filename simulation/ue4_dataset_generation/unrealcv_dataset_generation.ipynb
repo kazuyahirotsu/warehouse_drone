{
 "cells": [
  {
   "cell_type": "code",
   "execution_count": 2,
   "metadata": {},
   "outputs": [
    {
     "name": "stdout",
     "output_type": "stream",
     "text": [
      "=> Info: Use inet client...\n"
     ]
    }
   ],
   "source": [
    "from unrealcv import client\n",
    "import os, sys, time"
   ]
  },
  {
   "cell_type": "code",
   "execution_count": 3,
   "metadata": {},
   "outputs": [
    {
     "name": "stderr",
     "output_type": "stream",
     "text": [
      "INFO:__init__:234:Got connection confirm: b'connected to warehouse_simple'\n"
     ]
    },
    {
     "name": "stdout",
     "output_type": "stream",
     "text": [
      "=>Info: using ip-port socket\n"
     ]
    }
   ],
   "source": [
    "# connect to ue\n",
    "client.connect()\n",
    "if not client.isconnected():\n",
    "    print('UnrealCV server is not running.')"
   ]
  },
  {
   "cell_type": "code",
   "execution_count": 32,
   "metadata": {},
   "outputs": [
    {
     "name": "stdout",
     "output_type": "stream",
     "text": [
      "ok\n",
      "ok\n"
     ]
    }
   ],
   "source": [
    "res = client.request(f'vset /camera/1/size 1200 800')\n",
    "print(res)\n",
    "res = client.request(f'vset /camera/1/fov 87')\n",
    "print(res)"
   ]
  },
  {
   "cell_type": "code",
   "execution_count": 33,
   "metadata": {},
   "outputs": [
    {
     "name": "stdout",
     "output_type": "stream",
     "text": [
      "Is Listening\n",
      "Client Connected\n",
      "9000\n",
      "Configuration\n",
      "Config file: C:/Program Files/Epic Games/UE_4.27/Engine/Binaries/Win64/unrealcv.ini\n",
      "Port: 9000\n",
      "Width: 1200\n",
      "Height: 800\n",
      "FOV: 87.000000\n",
      "EnableInput: true\n",
      "EnableRightEye: false\n",
      "\n"
     ]
    }
   ],
   "source": [
    "\n",
    "# check config\n",
    "res = client.request('vget /unrealcv/status')\n",
    "# The image resolution and port is configured in the config file.\n",
    "print(res)"
   ]
  },
  {
   "cell_type": "code",
   "execution_count": 34,
   "metadata": {},
   "outputs": [],
   "source": [
    "# import stuff\n",
    "import numpy as np\n",
    "from matplotlib import pyplot as plt"
   ]
  },
  {
   "cell_type": "code",
   "execution_count": 7,
   "metadata": {},
   "outputs": [
    {
     "data": {
      "text/plain": [
       "'c:\\\\Users\\\\kazuya\\\\warehouse_drone\\\\simulation\\\\ue4_dataset_generation'"
      ]
     },
     "execution_count": 7,
     "metadata": {},
     "output_type": "execute_result"
    }
   ],
   "source": [
    "pwd"
   ]
  },
  {
   "cell_type": "code",
   "execution_count": 113,
   "metadata": {},
   "outputs": [
    {
     "name": "stdout",
     "output_type": "stream",
     "text": [
      "c:\\Users\\kazuya\\warehouse_drone\\simulation\\ue4_dataset_generation\\depth_front.npy\n"
     ]
    },
    {
     "data": {
      "image/png": "[encoded data removed]",
      "text/plain": [
       "<Figure size 432x288 with 1 Axes>"
      ]
     },
     "metadata": {
      "needs_background": "light"
     },
     "output_type": "display_data"
    }
   ],
   "source": [
    "# get depth image\n",
    "res = client.request(f'vset /camera/1/location -30 500 70')\n",
    "res = client.request(f'vset /camera/1/rotation 0 -180 0')\n",
    "res = client.request('vget /camera/1/depth c:\\\\Users\\\\kazuya\\\\warehouse_drone\\\\simulation\\\\ue4_dataset_generation\\\\depth_front.npy')\n",
    "print(res)\n",
    "img_array = np.load('depth_front.npy')\n",
    "plt.imshow(img_array)\n",
    "plt.show()\n"
   ]
  },
  {
   "cell_type": "code",
   "execution_count": 12,
   "metadata": {},
   "outputs": [
    {
     "name": "stdout",
     "output_type": "stream",
     "text": [
      "100.000 40.000 130.000\n",
      "0.000 -180.000 0.000\n"
     ]
    }
   ],
   "source": [
    "# get camera location\n",
    "res = client.request(f'vget /camera/1/location')\n",
    "print(res)\n",
    "res = client.request(f'vget /camera/1/rotation')\n",
    "print(res)"
   ]
  },
  {
   "cell_type": "code",
   "execution_count": 101,
   "metadata": {},
   "outputs": [],
   "source": [
    "from PIL import Image\n",
    "\n",
    "def conevrt_to_gray(img_array, folder, index_num):\n",
    "    index_num = str(index_num).zfill(6)\n",
    "\n",
    "    img_array = img_array * 10\n",
    "\n",
    "    if img_array.max() > 65535 or img_array.min() < 0:\n",
    "        img_array = (img_array - img_array.min()) / (img_array.max() - img_array.min()) * 65535\n",
    "\n",
    "    # Convert to uint8\n",
    "    img_array = img_array.astype(np.uint16)\n",
    "\n",
    "    # Convert the numpy array to a Pillow Image\n",
    "    image = Image.fromarray(img_array)\n",
    "\n",
    "    # Save the image as a PNG file\n",
    "    image.save(f'{folder}\\\\{index_num}.png')"
   ]
  },
  {
   "cell_type": "code",
   "execution_count": 114,
   "metadata": {},
   "outputs": [],
   "source": [
    "for i in range(400):\n",
    "\n",
    "    res = client.request(f'vset /camera/1/location 0 {100+i} 70')\n",
    "    res = client.request(f'vset /camera/1/rotation 0 -180 0')\n",
    "    res = client.request('vget /camera/1/depth c:\\\\Users\\\\kazuya\\\\warehouse_drone\\\\simulation\\\\ue4_dataset_generation\\\\depth_front.npy')\n",
    "    img_array = np.load('depth_front.npy')\n",
    "    conevrt_to_gray(img_array, 'c:\\\\Users\\\\kazuya\\\\warehouse_drone\\\\simulation\\\\ue4_dataset_generation\\\\dataset\\\\depth', i)\n",
    "    res = client.request(f'vget /camera/1/lit c:\\\\Users\\\\kazuya\\\\warehouse_drone\\\\simulation\\\\ue4_dataset_generation\\\\dataset\\\\color_png\\\\{str(i).zfill(6)}.png')\n",
    "    res = client.request(f'vget /camera/1/object_mask c:\\\\Users\\\\kazuya\\\\warehouse_drone\\\\simulation\\\\ue4_dataset_generation\\\\dataset\\\\object\\\\{str(i).zfill(6)}.png')\n",
    "\n",
    "# for i in range(27):\n",
    "#     res = client.request(f'vset /camera/1/location 0 {100+i*10} 120')\n",
    "#     res = client.request(f'vset /camera/1/rotation 0 -180 0')\n",
    "#     res = client.request('vget /camera/1/depth c:\\\\Users\\\\kazuya\\\\warehouse_drone\\\\simulation\\\\ue4_dataset_generation\\\\depth_front.npy')\n",
    "#     img_array = np.load('depth_front.npy')\n",
    "#     conevrt_to_gray(img_array, 'c:\\\\Users\\\\kazuya\\\\warehouse_drone\\\\simulation\\\\ue4_dataset_generation\\\\dataset\\\\depth', i+27)\n",
    "#     res = client.request(f'vget /camera/1/lit c:\\\\Users\\\\kazuya\\\\warehouse_drone\\\\simulation\\\\ue4_dataset_generation\\\\dataset\\\\color_png\\\\{str(i+27).zfill(6)}.png')\n",
    "#     res = client.request(f'vget /camera/1/object_mask c:\\\\Users\\\\kazuya\\\\warehouse_drone\\\\simulation\\\\ue4_dataset_generation\\\\dataset\\\\object\\\\{str(i+27).zfill(6)}.png')\n"
   ]
  },
  {
   "cell_type": "code",
   "execution_count": 116,
   "metadata": {},
   "outputs": [],
   "source": [
    "import os\n",
    "from PIL import Image\n",
    "\n",
    "def convert_png_to_jpg(input_folder, output_folder):\n",
    "    if not os.path.exists(output_folder):\n",
    "        os.makedirs(output_folder)\n",
    "\n",
    "    for filename in os.listdir(input_folder):\n",
    "        if filename.endswith(\".png\"):\n",
    "            png_path = os.path.join(input_folder, filename)\n",
    "            jpg_filename = filename.replace(\".png\", \".jpg\")\n",
    "            jpg_path = os.path.join(output_folder, jpg_filename)\n",
    "\n",
    "            with Image.open(png_path) as img:\n",
    "                rgb_img = img.convert(\"RGB\")\n",
    "                rgb_img.save(jpg_path, \"JPEG\")\n",
    "\n",
    "input_folder = 'c:\\\\Users\\\\kazuya\\\\warehouse_drone\\\\simulation\\\\ue4_dataset_generation\\\\dataset\\\\object'\n",
    "output_folder = 'c:\\\\Users\\\\kazuya\\\\warehouse_drone\\\\simulation\\\\ue4_dataset_generation\\\\dataset\\\\color'\n",
    "\n",
    "convert_png_to_jpg(input_folder, output_folder)\n"
   ]
  }
 ],
 "metadata": {
  "kernelspec": {
   "display_name": "Python 3",
   "language": "python",
   "name": "python3"
  },
  "language_info": {
   "codemirror_mode": {
    "name": "ipython",
    "version": 3
   },
   "file_extension": ".py",
   "mimetype": "text/x-python",
   "name": "python",
   "nbconvert_exporter": "python",
   "pygments_lexer": "ipython3",
   "version": "3.10.11"
  },
  "orig_nbformat": 4,
  "vscode": {
   "interpreter": {
    "hash": "173697347e5f141a9cf2ff4d8b6444dba0aa36c31837a83795a3e4196cbbd73a"
   }
  }
 },
 "nbformat": 4,
 "nbformat_minor": 2
}
