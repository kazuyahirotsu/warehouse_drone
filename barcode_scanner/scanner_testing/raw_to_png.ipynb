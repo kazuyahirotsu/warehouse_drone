{
 "cells": [
  {
   "cell_type": "code",
   "execution_count": 1,
   "metadata": {},
   "outputs": [],
   "source": [
    "from PIL import Image\n",
    "import rawpy"
   ]
  },
  {
   "cell_type": "code",
   "execution_count": 2,
   "metadata": {},
   "outputs": [
    {
     "name": "stdout",
     "output_type": "stream",
     "text": [
      "52\n",
      "53\n",
      "54\n",
      "55\n",
      "56\n",
      "57\n",
      "58\n",
      "59\n",
      "60\n",
      "61\n",
      "62\n",
      "63\n",
      "64\n",
      "65\n",
      "66\n"
     ]
    }
   ],
   "source": [
    "for i in range(52, 67):\n",
    "    print(i)\n",
    "    raw = rawpy.imread(\"/Users/kazuya/Projects/warehouse_drone/barcode_scanner/test_images/high_res_images/dark_lighting/DJI_00\"+str(i)+\".DNG\")\n",
    "    rgb = raw.postprocess()\n",
    "    img = Image.fromarray(rgb)\n",
    "    img.save(\"/Users/kazuya/Projects/warehouse_drone/barcode_scanner/test_images/high_res_images/dark_lighting/DJI_00\"+str(i)+\".png\")"
   ]
  }
 ],
 "metadata": {
  "kernelspec": {
   "display_name": "Python 3",
   "language": "python",
   "name": "python3"
  },
  "language_info": {
   "codemirror_mode": {
    "name": "ipython",
    "version": 3
   },
   "file_extension": ".py",
   "mimetype": "text/x-python",
   "name": "python",
   "nbconvert_exporter": "python",
   "pygments_lexer": "ipython3",
   "version": "3.11.9"
  }
 },
 "nbformat": 4,
 "nbformat_minor": 2
}
