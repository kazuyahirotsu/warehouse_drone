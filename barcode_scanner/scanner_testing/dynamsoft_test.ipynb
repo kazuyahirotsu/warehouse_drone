{
 "cells": [
  {
   "cell_type": "code",
   "execution_count": 7,
   "metadata": {},
   "outputs": [
    {
     "data": {
      "text/plain": [
       "True"
      ]
     },
     "execution_count": 7,
     "metadata": {},
     "output_type": "execute_result"
    }
   ],
   "source": [
    "# importing os module for environment variables\n",
    "import os\n",
    "# importing necessary functions from dotenv library\n",
    "from dotenv import load_dotenv, dotenv_values \n",
    "# loading variables from .env file\n",
    "load_dotenv() \n"
   ]
  },
  {
   "cell_type": "code",
   "execution_count": 8,
   "metadata": {},
   "outputs": [],
   "source": [
    "from dbr import *"
   ]
  },
  {
   "cell_type": "code",
   "execution_count": 9,
   "metadata": {},
   "outputs": [],
   "source": [
    "error = BarcodeReader.init_license(os.getenv(\"DYNAMSOFT_API_KEY\"))\n",
    "if error[0] != EnumErrorCode.DBR_OK:\n",
    "   # Add your code for license error processing\n",
    "   print(\"License error: \"+ error[1])"
   ]
  },
  {
   "cell_type": "code",
   "execution_count": 10,
   "metadata": {},
   "outputs": [],
   "source": [
    "reader = BarcodeReader.get_instance()\n",
    "if reader != None:\n",
    "    # Add your code here to call decoding method, process barcode results and so on\n",
    "    # ...\n",
    "    settings = reader.get_runtime_settings()\n",
    "    settings.barcode_format_ids = EnumBarcodeFormat.BF_ALL\n",
    "    settings.barcode_format_ids_2 = EnumBarcodeFormat_2.BF2_POSTALCODE | EnumBarcodeFormat_2.BF2_DOTCODE\n",
    "    settings.excepted_barcodes_count = 10\n",
    "    reader.update_runtime_settings(settings)\n",
    "    try:\n",
    "        # image_path = '/Users/kazuya/Projects/warehouse_drone/barcode_scanner/barcode_test_papers/ITF_1-10cm.png'\n",
    "        # image_path = '/Users/kazuya/Projects/warehouse_drone/barcode_scanner/barcode_test_papers/QR_1-8cm.png'\n",
    "\n",
    "        image_path = '/Users/kazuya/Projects/warehouse_drone/barcode_scanner/test_image/DJI_0001.DNG'\n",
    "        results = reader.decode_file(image_path)\n",
    "        if results != None:\n",
    "            i = 0\n",
    "            for text_result in results:\n",
    "                print(\"Barcode \" + str(i))\n",
    "                print(\"Barcode Format : \" + text_result.barcode_format_string)\n",
    "                print(\"Barcode Text : \" + text_result.barcode_text)\n",
    "                print(\"Barcode Confidence : \" + str(text_result.extended_results[0].confidence))\n",
    "                print(\"Barcode Location : \" + str(text_result.localization_result.localization_points))\n",
    "                i = i+1\n",
    "    except BarcodeReaderError as bre:\n",
    "        print(bre) \n",
    "\n",
    "    # Recycle the instance\n",
    "    reader.recycle_instance()\n",
    "\n"
   ]
  },
  {
   "cell_type": "code",
   "execution_count": 27,
   "metadata": {},
   "outputs": [
    {
     "name": "stdout",
     "output_type": "stream",
     "text": [
      "Barcode 0\n",
      "Barcode Format : QR_CODE\n",
      "Barcode Text : 4538047476\n",
      "Barcode Confidence : 80\n",
      "Barcode Location : [(4652, 4144), (4878, 4130), (4894, 4362), (4666, 4376)]\n",
      "Barcode 1\n",
      "Barcode Format : QR_CODE\n",
      "Barcode Text : 6326969723\n",
      "Barcode Confidence : 79\n",
      "Barcode Location : [(4936, 4078), (5212, 4066), (5232, 4344), (4954, 4356)]\n",
      "Barcode 2\n",
      "Barcode Format : QR_CODE\n",
      "Barcode Text : 8003218570\n",
      "Barcode Confidence : 79\n",
      "Barcode Location : [(5022, 4474), (5390, 4452), (5414, 4822), (5048, 4844)]\n",
      "Barcode 3\n",
      "Barcode Format : ITF\n",
      "Barcode Text : 4399547721\n",
      "Barcode Confidence : 77\n",
      "Barcode Location : [(2906, 4024), (3186, 4020), (3186, 4100), (2906, 4104)]\n",
      "Barcode 4\n",
      "Barcode Format : QR_CODE\n",
      "Barcode Text : 4399547721\n",
      "Barcode Confidence : 76\n",
      "Barcode Location : [(4678, 4546), (4998, 4522), (5016, 4848), (4698, 4870)]\n",
      "Barcode 5\n",
      "Barcode Format : QR_CODE\n",
      "Barcode Text : 9414082678\n",
      "Barcode Confidence : 69\n",
      "Barcode Location : [(5148, 3742), (5332, 3730), (5340, 3912), (5162, 3924)]\n",
      "Barcode 6\n",
      "Barcode Format : QR_CODE\n",
      "Barcode Text : 2965080467\n",
      "Barcode Confidence : 66\n",
      "Barcode Location : [(4916, 3800), (5052, 3784), (5068, 3924), (4924, 3940)]\n",
      "Barcode 7\n",
      "Barcode Format : ITF\n",
      "Barcode Text : 6555798852\n",
      "Barcode Confidence : 47\n",
      "Barcode Location : [(2916, 4684), (3380, 4680), (3380, 4816), (2918, 4820)]\n",
      "Barcode 8\n",
      "Barcode Format : ITF\n",
      "Barcode Text : 7254610708\n",
      "Barcode Confidence : 44\n",
      "Barcode Location : [(2912, 4488), (3332, 4488), (3332, 4608), (2914, 4612)]\n",
      "Barcode 9\n",
      "Barcode Format : ITF\n",
      "Barcode Text : 4538047476\n",
      "Barcode Confidence : 32\n",
      "Barcode Location : [(2910, 4162), (3232, 4162), (3232, 4248), (2910, 4248)]\n",
      "Barcode 10\n",
      "Barcode Format : ITF\n",
      "Barcode Text : 8003218570\n",
      "Barcode Confidence : 32\n",
      "Barcode Location : [(2910, 4316), (3280, 4308), (3284, 4420), (2912, 4428)]\n",
      "Annotated image saved to /Users/kazuya/Projects/warehouse_drone/barcode_scanner/test_images/high_res_images/initial_test/output_DJI_0019.png\n"
     ]
    }
   ],
   "source": [
    "from PIL import Image, ImageDraw\n",
    "\n",
    "# Initialize the barcode reader instance\n",
    "reader = BarcodeReader.get_instance()\n",
    "if reader is not None:\n",
    "    # Configure runtime settings\n",
    "    settings = reader.get_runtime_settings()\n",
    "    settings.barcode_format_ids = EnumBarcodeFormat.BF_ALL\n",
    "    settings.barcode_format_ids_2 = EnumBarcodeFormat_2.BF2_POSTALCODE | EnumBarcodeFormat_2.BF2_DOTCODE\n",
    "    settings.excepted_barcodes_count = 10\n",
    "    reader.update_runtime_settings(settings)\n",
    "\n",
    "    try:\n",
    "        # Define the path to the image\n",
    "        image_path = '/Users/kazuya/Projects/warehouse_drone/barcode_scanner/test_images/high_res_images/initial_test/DJI_0019.png'\n",
    "        # image_path = '/Users/kazuya/Projects/warehouse_drone/barcode_scanner/barcode_test_papers/ITF_1-10cm.png'\n",
    "        # image_path = '/Users/kazuya/Projects/warehouse_drone/barcode_scanner/barcode_test_papers/QR_1-8cm.png'\n",
    "        \n",
    "        # Decode the image\n",
    "        results = reader.decode_file(image_path)\n",
    "        \n",
    "        if results is not None:\n",
    "            barcode_locations = []\n",
    "            # Loop through the barcode results\n",
    "            i = 0\n",
    "            for text_result in results:\n",
    "                print(\"Barcode \" + str(i))\n",
    "                print(\"Barcode Format : \" + text_result.barcode_format_string)\n",
    "                print(\"Barcode Text : \" + text_result.barcode_text)\n",
    "                print(\"Barcode Confidence : \" + str(text_result.extended_results[0].confidence))\n",
    "                print(\"Barcode Location : \" + str(text_result.localization_result.localization_points))\n",
    "                barcode_locations.append(text_result.localization_result.localization_points)\n",
    "                i += 1\n",
    "    \n",
    "    except BarcodeReaderError as bre:\n",
    "        print(bre)\n",
    "    \n",
    "    # Recycle the instance\n",
    "    reader.recycle_instance()\n",
    "\n",
    "    # Now perform the Pillow operations\n",
    "    try:\n",
    "        # Open the image using Pillow\n",
    "        image = Image.open(image_path)\n",
    "        draw = ImageDraw.Draw(image)\n",
    "        \n",
    "        # Draw rectangles around the detected barcodes\n",
    "        for points in barcode_locations:\n",
    "            draw.polygon(points, outline=\"red\")\n",
    "        \n",
    "        # Save the annotated image\n",
    "        output_image_path = '/Users/kazuya/Projects/warehouse_drone/barcode_scanner/test_images/high_res_images/initial_test/output_DJI_0019.png'\n",
    "        image.save(output_image_path)\n",
    "        print(f\"Annotated image saved to {output_image_path}\")\n",
    "\n",
    "    except Exception as e:\n",
    "        print(f\"An error occurred: {e}\")\n"
   ]
  },
  {
   "cell_type": "code",
   "execution_count": 23,
   "metadata": {},
   "outputs": [],
   "source": [
    "# dng to png\n",
    "from PIL import Image\n",
    "import rawpy\n",
    "\n",
    "raw = rawpy.imread('/Users/kazuya/Projects/warehouse_drone/barcode_scanner/test_image/DJI_0019.DNG')\n",
    "rgb = raw.postprocess()\n",
    "img = Image.fromarray(rgb)\n",
    "img.save('/Users/kazuya/Projects/warehouse_drone/barcode_scanner/test_image/DJI_0019.png')\n",
    "\n"
   ]
  },
  {
   "cell_type": "code",
   "execution_count": 30,
   "metadata": {},
   "outputs": [
    {
     "name": "stdout",
     "output_type": "stream",
     "text": [
      "24\n",
      "25\n",
      "26\n",
      "27\n",
      "28\n",
      "29\n",
      "30\n",
      "31\n",
      "32\n",
      "33\n",
      "34\n",
      "35\n",
      "36\n",
      "37\n",
      "38\n",
      "39\n",
      "40\n",
      "41\n",
      "42\n",
      "43\n",
      "44\n",
      "45\n",
      "46\n",
      "47\n",
      "48\n",
      "49\n",
      "50\n"
     ]
    }
   ],
   "source": [
    "for i in range(24, 51):\n",
    "    print(i)\n",
    "    raw = rawpy.imread(\"/Users/kazuya/Projects/warehouse_drone/barcode_scanner/test_images/high_res_images/normal_lighting/DJI_00\"+str(i)+\".DNG\")\n",
    "    rgb = raw.postprocess()\n",
    "    img = Image.fromarray(rgb)\n",
    "    img.save(\"/Users/kazuya/Projects/warehouse_drone/barcode_scanner/test_images/high_res_images/normal_lighting/DJI_00\"+str(i)+\".png\")"
   ]
  },
  {
   "cell_type": "code",
   "execution_count": 31,
   "metadata": {},
   "outputs": [],
   "source": [
    "i=51\n",
    "raw = rawpy.imread(\"/Users/kazuya/Projects/warehouse_drone/barcode_scanner/test_images/high_res_images/normal_lighting/DJI_00\"+str(i)+\".DNG\")\n",
    "rgb = raw.postprocess()\n",
    "img = Image.fromarray(rgb)\n",
    "img.save(\"/Users/kazuya/Projects/warehouse_drone/barcode_scanner/test_images/high_res_images/normal_lighting/DJI_00\"+str(i)+\".png\")"
   ]
  },
  {
   "cell_type": "code",
   "execution_count": null,
   "metadata": {},
   "outputs": [],
   "source": []
  }
 ],
 "metadata": {
  "kernelspec": {
   "display_name": "Python 3",
   "language": "python",
   "name": "python3"
  },
  "language_info": {
   "codemirror_mode": {
    "name": "ipython",
    "version": 3
   },
   "file_extension": ".py",
   "mimetype": "text/x-python",
   "name": "python",
   "nbconvert_exporter": "python",
   "pygments_lexer": "ipython3",
   "version": "3.11.9"
  }
 },
 "nbformat": 4,
 "nbformat_minor": 2
}
