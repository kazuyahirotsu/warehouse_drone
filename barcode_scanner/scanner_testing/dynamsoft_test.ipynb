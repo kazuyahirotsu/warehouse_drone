{
 "cells": [
  {
   "cell_type": "code",
   "execution_count": 1,
   "metadata": {},
   "outputs": [
    {
     "data": {
      "text/plain": [
       "True"
      ]
     },
     "execution_count": 1,
     "metadata": {},
     "output_type": "execute_result"
    }
   ],
   "source": [
    "# importing os module for environment variables\n",
    "import os\n",
    "# importing necessary functions from dotenv library\n",
    "from dotenv import load_dotenv, dotenv_values \n",
    "# loading variables from .env file\n",
    "load_dotenv() \n"
   ]
  },
  {
   "cell_type": "code",
   "execution_count": 2,
   "metadata": {},
   "outputs": [],
   "source": [
    "from dbr import *"
   ]
  },
  {
   "cell_type": "code",
   "execution_count": 3,
   "metadata": {},
   "outputs": [],
   "source": [
    "error = BarcodeReader.init_license(os.getenv(\"DYNAMSOFT_API_KEY\"))\n",
    "if error[0] != EnumErrorCode.DBR_OK:\n",
    "   # Add your code for license error processing\n",
    "   print(\"License error: \"+ error[1])"
   ]
  },
  {
   "cell_type": "code",
   "execution_count": 4,
   "metadata": {},
   "outputs": [
    {
     "name": "stdout",
     "output_type": "stream",
     "text": [
      "Barcode 0\n",
      "Barcode Format : ITF\n",
      "Barcode Text : 1234567890\n",
      "Barcode Confidence : 80\n",
      "Barcode Location : [(98, 261), (381, 261), (381, 343), (98, 343)]\n",
      "Barcode 1\n",
      "Barcode Format : ITF\n",
      "Barcode Text : 1234567890\n",
      "Barcode Confidence : 78\n",
      "Barcode Location : [(98, 1217), (665, 1217), (665, 1383), (98, 1383)]\n",
      "Barcode 2\n",
      "Barcode Format : ITF\n",
      "Barcode Text : 1234567890\n",
      "Barcode Confidence : 69\n",
      "Barcode Location : [(98, 979), (608, 979), (608, 1129), (98, 1129)]\n",
      "Barcode 3\n",
      "Barcode Format : ITF\n",
      "Barcode Text : 1234567890\n",
      "Barcode Confidence : 68\n",
      "Barcode Location : [(98, 574), (494, 574), (494, 690), (98, 690)]\n",
      "Barcode 4\n",
      "Barcode Format : ITF\n",
      "Barcode Text : 1234567890\n",
      "Barcode Confidence : 63\n",
      "Barcode Location : [(98, 406), (437, 406), (437, 506), (98, 506)]\n",
      "Barcode 5\n",
      "Barcode Format : ITF\n",
      "Barcode Text : 1234567890\n",
      "Barcode Confidence : 61\n",
      "Barcode Location : [(98, 765), (551, 765), (551, 899), (98, 899)]\n",
      "Barcode 6\n",
      "Barcode Format : ITF\n",
      "Barcode Text : 1234567890\n",
      "Barcode Confidence : 56\n",
      "Barcode Location : [(458, 131), (628, 130), (627, 181), (458, 181)]\n",
      "Barcode 7\n",
      "Barcode Format : ITF\n",
      "Barcode Text : 1234567890\n",
      "Barcode Confidence : 32\n",
      "Barcode Location : [(747, 109), (973, 109), (973, 175), (747, 175)]\n"
     ]
    }
   ],
   "source": [
    "reader = BarcodeReader.get_instance()\n",
    "if reader != None:\n",
    "    # Add your code here to call decoding method, process barcode results and so on\n",
    "    # ...\n",
    "    settings = reader.get_runtime_settings()\n",
    "    settings.barcode_format_ids = EnumBarcodeFormat.BF_ALL\n",
    "    settings.barcode_format_ids_2 = EnumBarcodeFormat_2.BF2_POSTALCODE | EnumBarcodeFormat_2.BF2_DOTCODE\n",
    "    settings.excepted_barcodes_count = 10\n",
    "    reader.update_runtime_settings(settings)\n",
    "    try:\n",
    "        image_path = '/Users/kazuya/Projects/warehouse_drone/barcode_scanner/barcode_test_papers/ITF_1-10cm.png'\n",
    "        # image_path = '/Users/kazuya/Projects/warehouse_drone/barcode_scanner/barcode_test_papers/QR_1-8cm.png'\n",
    "        results = reader.decode_file(image_path)\n",
    "        if results != None:\n",
    "            i = 0\n",
    "            for text_result in results:\n",
    "                print(\"Barcode \" + str(i))\n",
    "                print(\"Barcode Format : \" + text_result.barcode_format_string)\n",
    "                print(\"Barcode Text : \" + text_result.barcode_text)\n",
    "                print(\"Barcode Confidence : \" + str(text_result.extended_results[0].confidence))\n",
    "                print(\"Barcode Location : \" + str(text_result.localization_result.localization_points))\n",
    "                i = i+1\n",
    "    except BarcodeReaderError as bre:\n",
    "        print(bre) \n",
    "\n",
    "    # Recycle the instance\n",
    "    reader.recycle_instance()\n",
    "\n"
   ]
  },
  {
   "cell_type": "code",
   "execution_count": 5,
   "metadata": {},
   "outputs": [
    {
     "name": "stdout",
     "output_type": "stream",
     "text": [
      "Barcode 0\n",
      "Barcode Format : ITF\n",
      "Barcode Text : 1234567890\n",
      "Barcode Confidence : 80\n",
      "Barcode Location : [(98, 261), (381, 261), (381, 343), (98, 343)]\n",
      "Barcode 1\n",
      "Barcode Format : ITF\n",
      "Barcode Text : 1234567890\n",
      "Barcode Confidence : 78\n",
      "Barcode Location : [(98, 1217), (665, 1217), (665, 1383), (98, 1383)]\n",
      "Barcode 2\n",
      "Barcode Format : ITF\n",
      "Barcode Text : 1234567890\n",
      "Barcode Confidence : 69\n",
      "Barcode Location : [(98, 979), (608, 979), (608, 1129), (98, 1129)]\n",
      "Barcode 3\n",
      "Barcode Format : ITF\n",
      "Barcode Text : 1234567890\n",
      "Barcode Confidence : 68\n",
      "Barcode Location : [(98, 574), (494, 574), (494, 690), (98, 690)]\n",
      "Barcode 4\n",
      "Barcode Format : ITF\n",
      "Barcode Text : 1234567890\n",
      "Barcode Confidence : 63\n",
      "Barcode Location : [(98, 406), (437, 406), (437, 506), (98, 506)]\n",
      "Barcode 5\n",
      "Barcode Format : ITF\n",
      "Barcode Text : 1234567890\n",
      "Barcode Confidence : 61\n",
      "Barcode Location : [(98, 765), (551, 765), (551, 899), (98, 899)]\n",
      "Barcode 6\n",
      "Barcode Format : ITF\n",
      "Barcode Text : 1234567890\n",
      "Barcode Confidence : 56\n",
      "Barcode Location : [(458, 131), (628, 130), (627, 181), (458, 181)]\n",
      "Barcode 7\n",
      "Barcode Format : ITF\n",
      "Barcode Text : 1234567890\n",
      "Barcode Confidence : 32\n",
      "Barcode Location : [(747, 109), (973, 109), (973, 175), (747, 175)]\n",
      "Annotated image saved to /Users/kazuya/Projects/warehouse_drone/barcode_scanner/scanner_testing/output.png\n"
     ]
    }
   ],
   "source": [
    "from PIL import Image, ImageDraw\n",
    "\n",
    "# Initialize the barcode reader instance\n",
    "reader = BarcodeReader.get_instance()\n",
    "if reader is not None:\n",
    "    # Configure runtime settings\n",
    "    settings = reader.get_runtime_settings()\n",
    "    settings.barcode_format_ids = EnumBarcodeFormat.BF_ALL\n",
    "    settings.barcode_format_ids_2 = EnumBarcodeFormat_2.BF2_POSTALCODE | EnumBarcodeFormat_2.BF2_DOTCODE\n",
    "    settings.excepted_barcodes_count = 10\n",
    "    reader.update_runtime_settings(settings)\n",
    "\n",
    "    try:\n",
    "        # Define the path to the image\n",
    "        image_path = '/Users/kazuya/Projects/warehouse_drone/barcode_scanner/barcode_test_papers/ITF_1-10cm.png'\n",
    "        # image_path = '/Users/kazuya/Projects/warehouse_drone/barcode_scanner/barcode_test_papers/QR_1-8cm.png'\n",
    "        \n",
    "        # Decode the image\n",
    "        results = reader.decode_file(image_path)\n",
    "        \n",
    "        if results is not None:\n",
    "            barcode_locations = []\n",
    "            # Loop through the barcode results\n",
    "            i = 0\n",
    "            for text_result in results:\n",
    "                print(\"Barcode \" + str(i))\n",
    "                print(\"Barcode Format : \" + text_result.barcode_format_string)\n",
    "                print(\"Barcode Text : \" + text_result.barcode_text)\n",
    "                print(\"Barcode Confidence : \" + str(text_result.extended_results[0].confidence))\n",
    "                print(\"Barcode Location : \" + str(text_result.localization_result.localization_points))\n",
    "                barcode_locations.append(text_result.localization_result.localization_points)\n",
    "                i += 1\n",
    "    \n",
    "    except BarcodeReaderError as bre:\n",
    "        print(bre)\n",
    "    \n",
    "    # Recycle the instance\n",
    "    reader.recycle_instance()\n",
    "\n",
    "    # Now perform the Pillow operations\n",
    "    try:\n",
    "        # Open the image using Pillow\n",
    "        image = Image.open(image_path)\n",
    "        draw = ImageDraw.Draw(image)\n",
    "        \n",
    "        # Draw rectangles around the detected barcodes\n",
    "        for points in barcode_locations:\n",
    "            draw.polygon(points, outline=\"red\")\n",
    "        \n",
    "        # Save the annotated image\n",
    "        output_image_path = '/Users/kazuya/Projects/warehouse_drone/barcode_scanner/scanner_testing/output.png'\n",
    "        image.save(output_image_path)\n",
    "        print(f\"Annotated image saved to {output_image_path}\")\n",
    "\n",
    "    except Exception as e:\n",
    "        print(f\"An error occurred: {e}\")\n"
   ]
  }
 ],
 "metadata": {
  "kernelspec": {
   "display_name": "Python 3",
   "language": "python",
   "name": "python3"
  },
  "language_info": {
   "codemirror_mode": {
    "name": "ipython",
    "version": 3
   },
   "file_extension": ".py",
   "mimetype": "text/x-python",
   "name": "python",
   "nbconvert_exporter": "python",
   "pygments_lexer": "ipython3",
   "version": "3.11.9"
  }
 },
 "nbformat": 4,
 "nbformat_minor": 2
}
